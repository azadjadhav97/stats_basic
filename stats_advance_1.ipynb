{
  "nbformat": 4,
  "nbformat_minor": 0,
  "metadata": {
    "colab": {
      "provenance": []
    },
    "kernelspec": {
      "name": "python3",
      "display_name": "Python 3"
    },
    "language_info": {
      "name": "python"
    }
  },
  "cells": [
    {
      "cell_type": "code",
      "execution_count": 2,
      "metadata": {
        "id": "r_Srp8GW9iXM"
      },
      "outputs": [],
      "source": []
    },
    {
      "cell_type": "markdown",
      "source": [
        "1. What is a random variable in probability theory?\n",
        "\n",
        "A random variable is a numerical outcome of a random experiment. It assigns numerical values to different possible outcomes in a probabilistic setting.\n",
        "\n",
        "Example: Tossing a coin → Define X as the number of heads → X can be 0 (tails) or 1 (heads).\n",
        "\n",
        "\n",
        "\n"
      ],
      "metadata": {
        "id": "BRGTcJ3n9-Ym"
      }
    },
    {
      "cell_type": "code",
      "source": [],
      "metadata": {
        "id": "WaXLPoTd9tuX"
      },
      "execution_count": 2,
      "outputs": []
    },
    {
      "cell_type": "markdown",
      "source": [
        "2. What are the types of random variables?\n",
        "\n",
        "There are two main types:\n",
        "\n",
        "Discrete Random Variables – Can take only a finite or countable number of values. (e.g., Number of heads in 10 coin tosses)\n",
        "\n",
        "Continuous Random Variables – Can take an infinite number of values within a given range. (e.g., Height of people, Temperature)\n",
        "\n"
      ],
      "metadata": {
        "id": "1vDc3Ad8-IcD"
      }
    },
    {
      "cell_type": "markdown",
      "source": [
        "**3. What is the difference between discrete and continuous distributions?**\n",
        "\n",
        "Feature\tDiscrete Distribution\tContinuous Distribution\n",
        "Values Taken\tCountable values (e.g., 0,1,2,3)\tAny real number within an interval\n",
        "\n",
        "Probability Calculation\tUses probability mass function (PMF)\tUses probability density function (PDF)\n",
        "\n",
        "Example\tNumber of customers in a store\tHeights of individuals"
      ],
      "metadata": {
        "id": "p8UiaICJ-InB"
      }
    },
    {
      "cell_type": "markdown",
      "source": [
        "**4. What are probability distribution functions (PDF)?**\n",
        "\n",
        "A Probability Distribution Function describes how probabilities are distributed over values of a random variable. There are two types:\n",
        "\n",
        "\n",
        "For Discrete Variables: Probability Mass Function (PMF)\n",
        "\n",
        "\n",
        "For Continuous Variables: Probability Density Function (PDF)\n",
        "\n",
        "\n",
        "For continuous variables, PDF does not give the probability of a specific point but the likelihood over an interval.\n",
        "\n"
      ],
      "metadata": {
        "id": "xOSlRHFK-IqE"
      }
    },
    {
      "cell_type": "markdown",
      "source": [
        "**5. How do cumulative distribution functions (CDF) differ from probability distribution functions (PDF)?**\n",
        "\n",
        "CDF (Cumulative Distribution Function) gives the probability that a random variable takes a value less than or equal to a certain point:\n",
        "\n",
        "𝐹\n",
        "(\n",
        "𝑥\n",
        ")\n",
        "=\n",
        "𝑃\n",
        "(\n",
        "𝑋\n",
        "≤\n",
        "𝑥\n",
        ")\n",
        "F(x)=P(X≤x)\n",
        "PDF (Probability Density Function) gives the likelihood of a specific value occurring (for continuous distributions):\n",
        "\n",
        "𝑃\n",
        "(\n",
        "𝑎\n",
        "≤\n",
        "𝑋\n",
        "≤\n",
        "𝑏\n",
        ")\n",
        "=\n",
        "∫\n",
        "𝑎\n",
        "𝑏\n",
        "𝑓\n",
        "(\n",
        "𝑥\n",
        ")\n",
        "𝑑\n",
        "𝑥\n",
        "P(a≤X≤b)=∫\n",
        "a\n",
        "b\n",
        "​\n",
        " f(x)dx\n"
      ],
      "metadata": {
        "id": "TSMSY3C0-ItY"
      }
    },
    {
      "cell_type": "markdown",
      "source": [
        "**6. What is a discrete uniform distribution?**\n",
        "\n",
        "A discrete uniform distribution is a probability distribution where all possible values have the same probability.\n",
        "\n",
        "Example: Rolling a fair 6-sided die → Each outcome (1 to 6) has a probability of\n",
        "1\n",
        "6\n",
        "6\n",
        "1\n",
        "​\n",
        " ."
      ],
      "metadata": {
        "id": "Y0MMrrHd-Iw_"
      }
    },
    {
      "cell_type": "markdown",
      "source": [
        "**7. What are the key properties of a Bernoulli distribution?**\n",
        "\n",
        "A Bernoulli distribution models a single experiment with two outcomes: Success (\n",
        "1\n",
        "1) and Failure (\n",
        "0\n",
        "0).\n",
        "\n",
        "Probability Mass Function (PMF):\n",
        "\n",
        "𝑃\n",
        "(\n",
        "𝑋\n",
        "=\n",
        "𝑥\n",
        ")\n",
        "=\n",
        "𝑝\n",
        "𝑥\n",
        "(\n",
        "1\n",
        "−\n",
        "𝑝\n",
        ")\n",
        "1\n",
        "−\n",
        "𝑥\n",
        ",\n",
        "𝑥\n",
        "∈\n",
        "{\n",
        "0\n",
        ",\n",
        "1\n",
        "}\n",
        "P(X=x)=p\n",
        "x\n",
        " (1−p)\n",
        "1−x\n",
        " ,x∈{0,1}\n",
        "Mean:\n",
        "𝐸\n",
        "[\n",
        "𝑋\n",
        "]\n",
        "=\n",
        "𝑝\n",
        "E[X]=p\n",
        "\n",
        "Variance:\n",
        "𝑉\n",
        "𝑎\n",
        "𝑟\n",
        "(\n",
        "𝑋\n",
        ")\n",
        "=\n",
        "𝑝\n",
        "(\n",
        "1\n",
        "−\n",
        "𝑝\n",
        ")\n",
        "Var(X)=p(1−p)"
      ],
      "metadata": {
        "id": "2g7szTy7-I0U"
      }
    },
    {
      "cell_type": "markdown",
      "source": [
        "**8. What is the binomial distribution, and how is it used in probability?**\n",
        "A binomial distribution models the number of successes in\n",
        "𝑛\n",
        "n independent Bernoulli trials.\n",
        "\n",
        "PMF:\n",
        "\n",
        "𝑃\n",
        "(\n",
        "𝑋\n",
        "=\n",
        "𝑘\n",
        ")\n",
        "=\n",
        "(\n",
        "𝑛\n",
        "𝑘\n",
        ")\n",
        "𝑝\n",
        "𝑘\n",
        "(\n",
        "1\n",
        "−\n",
        "𝑝\n",
        ")\n",
        "𝑛\n",
        "−\n",
        "𝑘\n",
        "P(X=k)=(\n",
        "k\n",
        "n\n",
        "​\n",
        " )p\n",
        "k\n",
        " (1−p)\n",
        "n−k\n",
        "\n",
        "Mean:\n",
        "𝑛\n",
        "𝑝\n",
        "np\n",
        "\n",
        "Variance:\n",
        "𝑛\n",
        "𝑝\n",
        "(\n",
        "1\n",
        "−\n",
        "𝑝\n",
        ")\n",
        "np(1−p)\n",
        "\n",
        "Example: The number of heads in 10 coin flips."
      ],
      "metadata": {
        "id": "3VbeDzBj-I3t"
      }
    },
    {
      "cell_type": "markdown",
      "source": [
        "**9. What is the Poisson distribution and where is it applied?**\n",
        "\n",
        "A Poisson distribution models the number of occurrences of an event in a fixed interval (time or space), given an average rate\n",
        "𝜆\n",
        "λ.\n",
        "\n",
        "PMF:\n",
        "\n",
        "𝑃\n",
        "(\n",
        "𝑋\n",
        "=\n",
        "𝑘\n",
        ")\n",
        "=\n",
        "𝑒\n",
        "−\n",
        "𝜆\n",
        "𝜆\n",
        "𝑘\n",
        "𝑘\n",
        "!\n",
        "P(X=k)=\n",
        "k!\n",
        "e\n",
        "−λ\n",
        " λ\n",
        "k\n",
        "\n",
        "​\n",
        "\n",
        "Mean & Variance:\n",
        "𝜆\n",
        "λ\n",
        "\n",
        "Example: Number of customer arrivals at a bank per hour."
      ],
      "metadata": {
        "id": "CF1x4eg_-I7X"
      }
    },
    {
      "cell_type": "code",
      "source": [],
      "metadata": {
        "id": "oRudAMih9uPy"
      },
      "execution_count": null,
      "outputs": []
    },
    {
      "cell_type": "markdown",
      "source": [
        "**10. What is a continuous uniform distribution?**\n",
        "\n",
        "A continuous uniform distribution models equally likely values within an interval\n",
        "[\n",
        "𝑎\n",
        ",\n",
        "𝑏\n",
        "]\n",
        "[a,b].\n",
        "\n",
        "PDF:\n",
        "\n",
        "𝑓\n",
        "(\n",
        "𝑥\n",
        ")\n",
        "=\n",
        "1\n",
        "𝑏\n",
        "−\n",
        "𝑎\n",
        ",\n",
        "𝑎\n",
        "≤\n",
        "𝑥\n",
        "≤\n",
        "𝑏\n",
        "f(x)=\n",
        "b−a\n",
        "1\n",
        "​\n",
        " ,a≤x≤b\n",
        "Example: Randomly selecting a number between 0 and 10."
      ],
      "metadata": {
        "id": "x2ZwErWT_KUv"
      }
    },
    {
      "cell_type": "markdown",
      "source": [
        "**11. What are the characteristics of a normal distribution?**\n",
        "\n",
        "Bell-shaped curve, symmetric about the mean.\n",
        "\n",
        "Defined by mean (\n",
        "𝜇\n",
        "μ) and variance (\n",
        "𝜎\n",
        "2\n",
        "σ\n",
        "2\n",
        " ).\n",
        "\n",
        "PDF:\n",
        "\n",
        "𝑓\n",
        "(\n",
        "𝑥\n",
        ")\n",
        "=\n",
        "1\n",
        "𝜎\n",
        "2\n",
        "𝜋\n",
        "𝑒\n",
        "−\n",
        "(\n",
        "𝑥\n",
        "−\n",
        "𝜇\n",
        ")\n",
        "2\n",
        "2\n",
        "𝜎\n",
        "2\n",
        "f(x)=\n",
        "σ\n",
        "2π\n",
        "​\n",
        "\n",
        "1\n",
        "​\n",
        " e\n",
        "−\n",
        "2σ\n",
        "2\n",
        "\n",
        "(x−μ)\n",
        "2\n",
        "\n",
        "​\n",
        "\n",
        "\n",
        "Example: Heights of people, IQ scores.\n",
        "\n"
      ],
      "metadata": {
        "id": "NU8ntyQW_KXs"
      }
    },
    {
      "cell_type": "markdown",
      "source": [
        "**12. What is the standard normal distribution, and why is it important?**\n",
        "\n",
        "A standard normal distribution is a normal distribution with:\n",
        "\n",
        "Mean (\n",
        "𝜇\n",
        "μ) = 0\n",
        "\n",
        "Standard deviation (\n",
        "𝜎\n",
        "σ) = 1\n",
        "\n",
        "Used in Z-score calculations.\n",
        "\n"
      ],
      "metadata": {
        "id": "jkdpBhVo_Kaw"
      }
    },
    {
      "cell_type": "markdown",
      "source": [
        "**13. What is the Central Limit Theorem (CLT), and why is it critical in statistics?**\n",
        "\n",
        "The Central Limit Theorem (CLT) states that the sampling distribution of the mean of any population approaches a normal distribution as the sample size increases.\n",
        "\n",
        "Importance: Justifies using the normal distribution for inference in statistics."
      ],
      "metadata": {
        "id": "2PJd3I2m_Kdv"
      }
    },
    {
      "cell_type": "markdown",
      "source": [
        "**14. How does the Central Limit Theorem relate to the normal distribution?**\n",
        "\n",
        "As the sample size increases, the distribution of sample means follows a normal distribution, even if the original population is not normally distributed.\n",
        "\n"
      ],
      "metadata": {
        "id": "b7iftDe6_Kg3"
      }
    },
    {
      "cell_type": "markdown",
      "source": [
        "**15. What is the application of Z statistics in hypothesis testing?**\n",
        "\n",
        "Used in Z-tests to determine if a sample mean differs significantly from the population mean.\n",
        "\n",
        "Formula:\n",
        "\n",
        "𝑍\n",
        "=\n",
        "𝑋\n",
        "−\n",
        "𝜇\n",
        "𝜎\n",
        "/\n",
        "𝑛\n",
        "Z=\n",
        "σ/\n",
        "n\n",
        "​\n",
        "\n",
        "X−μ\n",
        "​\n",
        "\n"
      ],
      "metadata": {
        "id": "-xXQgnG8_Kjf"
      }
    },
    {
      "cell_type": "markdown",
      "source": [
        "**16. How do you calculate a Z-score, and what does it represent?**\n",
        "\n",
        "A Z-score measures how many standard deviations a value is from the mean.\n",
        "\n",
        "Formula:\n",
        "\n",
        "𝑍\n",
        "=\n",
        "𝑋\n",
        "−\n",
        "𝜇\n",
        "𝜎\n",
        "Z=\n",
        "σ\n",
        "X−μ\n",
        "​\n",
        "\n",
        "Interpretation: If\n",
        "𝑍\n",
        "=\n",
        "2\n",
        "Z=2, the value is 2 standard deviations above the mean."
      ],
      "metadata": {
        "id": "Z-XJhnHb_KmR"
      }
    },
    {
      "cell_type": "markdown",
      "source": [
        "**17. What are point estimates and interval estimates in statistics?**\n",
        "\n",
        "Point Estimate: A single value estimate (e.g., sample mean).\n",
        "\n",
        "Interval Estimate: A range of values (e.g., confidence interval)."
      ],
      "metadata": {
        "id": "RBRFeCTM_Ko0"
      }
    },
    {
      "cell_type": "markdown",
      "source": [
        "**18. What is the significance of confidence intervals in statistical analysis?**\n",
        "\n",
        "A confidence interval (CI) provides a range where a population parameter is likely to lie.\n",
        "\n",
        "Example: \"The mean height is\n",
        "170\n",
        "±\n",
        "3\n",
        "170±3 cm with 95% confidence.\""
      ],
      "metadata": {
        "id": "dKq_k8CE_KrD"
      }
    },
    {
      "cell_type": "markdown",
      "source": [
        "**19. What is the relationship between a Z-score and a confidence interval?**\n",
        "\n",
        "Z-scores help determine critical values for confidence intervals.\n",
        "\n",
        "Example: A 95% CI uses\n",
        "𝑍\n",
        "=\n",
        "1.96\n",
        "Z=1.96.\n",
        "\n"
      ],
      "metadata": {
        "id": "yZWLYu0d_Kte"
      }
    },
    {
      "cell_type": "markdown",
      "source": [
        "**20. How are Z-scores used to compare different distributions?**\n",
        "\n",
        "Z-scores standardize values across distributions, allowing comparisons."
      ],
      "metadata": {
        "id": "PU8v3flf_Kvu"
      }
    },
    {
      "cell_type": "markdown",
      "source": [
        "**21. What are the assumptions for applying the Central Limit Theorem?**\n",
        "\n",
        "Sample size should be large (\n",
        "𝑛\n",
        ">\n",
        "30\n",
        "n>30).\n",
        "\n",
        "Observations should be independent.\n",
        "\n",
        "Population variance should be finite.\n",
        "\n"
      ],
      "metadata": {
        "id": "Dm4r-TaH_KyR"
      }
    },
    {
      "cell_type": "markdown",
      "source": [
        "**22. What is the concept of expected value in a probability distribution?**\n",
        "\n",
        "The expected value (mean) is the long-run average outcome.\n",
        "\n",
        "𝐸\n",
        "[\n",
        "𝑋\n",
        "]\n",
        "=\n",
        "∑\n",
        "𝑥\n",
        "𝑃\n",
        "(\n",
        "𝑥\n",
        ")\n",
        "(\n",
        "for discrete\n",
        ")\n",
        "or\n",
        "∫\n",
        "𝑥\n",
        "𝑓\n",
        "(\n",
        "𝑥\n",
        ")\n",
        "𝑑\n",
        "𝑥\n",
        "(\n",
        "for continuous\n",
        ")\n",
        "E[X]=∑xP(x)(for discrete)or∫xf(x)dx(for continuous)"
      ],
      "metadata": {
        "id": "tKuPu5S__K0h"
      }
    },
    {
      "cell_type": "markdown",
      "source": [
        "**23. How does a probability distribution relate to the expected outcome of a random variable?**\n",
        "\n",
        "The probability distribution determines the likelihood of different outcomes, which helps compute the expected value."
      ],
      "metadata": {
        "id": "8nhDVS-K_K2q"
      }
    }
  ]
}